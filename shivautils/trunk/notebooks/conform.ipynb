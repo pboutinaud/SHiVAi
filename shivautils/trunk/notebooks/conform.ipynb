{
 "cells": [
  {
   "cell_type": "markdown",
   "metadata": {},
   "source": [
    "# Conformation et rognage de l'image SWI"
   ]
  },
  {
   "cell_type": "code",
   "execution_count": 29,
   "metadata": {},
   "outputs": [],
   "source": [
    "import nibabel as nb\n",
    "import nibabel.processing  as nip\n",
    "import numpy as np\n",
    "from scipy import ndimage\n",
    "from copy import deepcopy\n",
    "\n",
    "img = nb.loadsave.load(\"../share/image/input.nii\")\n",
    "\n",
    "final_dimensions = (160, 214, 176)\n",
    "voxel_size = (1.0 , 1.0, 1.0)\n",
    "resampled_dimensions = (256 , 256, 256) # half the original image because twice the voxel size...\n",
    "\n",
    "orientation ='RAS'"
   ]
  },
  {
   "cell_type": "markdown",
   "metadata": {},
   "source": [
    "On écrit l'image après conformation à 1 mm pour la dimension finale 160x214x176:"
   ]
  },
  {
   "cell_type": "code",
   "execution_count": 30,
   "metadata": {},
   "outputs": [],
   "source": [
    "resampled =nip.conform(\n",
    "    img,  out_shape=final_dimensions, voxel_size=voxel_size, order=3 ,\n",
    "    cval=0.0, orientation=orientation, out_class=None)\n",
    "nb.loadsave.save(resampled , \"../share/image/conformed_final_dimensions.nii.gz\")"
   ]
  },
  {
   "cell_type": "markdown",
   "metadata": {},
   "source": [
    "...mais en pratique on va travailler en deux étapes car on veut ajuster le champ de vue de l'image finale pour être sur le cerveau et pas le cou, où pour ne pas que ça coupe si on a une grosse tête. \n",
    "Donc on écrit d'abord l'image après conformation à 1 mm, mais pour le même champ de vue que l'image originale (2 fois moins de voxels deux fois plus gros, 256x256x256, one ne perd rien):"
   ]
  },
  {
   "cell_type": "code",
   "execution_count": 31,
   "metadata": {},
   "outputs": [],
   "source": [
    "orientation2 ='RAS'\n",
    "resampled256 =nip.conform(\n",
    "    img,  out_shape=resampled_dimensions, voxel_size=voxel_size, order=3 ,\n",
    "    cval=0.0, orientation=orientation, out_class=None)\n",
    "nb.loadsave.save(resampled256 , \"../share/image/conformed256.nii.gz\")"
   ]
  },
  {
   "cell_type": "markdown",
   "metadata": {},
   "source": [
    "On va maintenant extraire un bloc aux bonnes dimensions 160x214x176 de l'image à 256x256x256 pour 1mm3 de taille de voxel. On veut centrer ce bloc sur le cerveau (ici on va directement prendre le centre de masse de l'image, pour faire simple).\n",
    "\n",
    "Et on va décaler le référentiel de coordonnées par rapport à l'image originale pour conserver l'alignement des images."
   ]
  },
  {
   "cell_type": "code",
   "execution_count": 32,
   "metadata": {},
   "outputs": [],
   "source": [
    "# calcul du centre de gravité de l'image, on arrondit et on convertit en entiers\n",
    "CdG_ijk = np.ceil(np.array(\n",
    "    ndimage.measurements.center_of_mass(resampled256.get_fdata()))).astype(int)\n",
    "\n",
    "# on va centrer le bloc sur le centre de gravité, donc on coupe la taille en 2\n",
    "halfs = np.array(final_dimensions) / 2\n",
    "halfs = halfs.astype(int) # on a besoin d'entiers car cela sertpour des indices du \"tableau de voxels\"\n",
    "bbox1 = CdG_ijk - halfs  # les ijk du voxel le plus bas de la boite\n",
    "bbox2 = halfs + CdG_ijk # les ijk voxel le plus haut de la bounding box\n",
    "\n",
    "# on extrait la boite i1 -> i2, j1 -> j2, k1 -> k2 (on \"slice\", quoi) \n",
    "array_out = resampled256.get_fdata()[bbox1[0]:bbox2[0], bbox1[1]:bbox2[1], bbox1[2]:bbox2[2]]\n",
    "\n",
    "# on corrige les coordonnées, donc d'abord il faut\n",
    "# convertir ijk vers xyz pour la demi taille du bloc et le centre de gravité\n",
    "CdG_xyz = resampled256.affine @ np.append(CdG_ijk, 1)\n",
    "halfs_xyz = resampled256.affine @ np.append(halfs, 1)\n",
    "affine_out = deepcopy(resampled256.affine) # on recopie la matrice affine de l'image, on va la modifier\n",
    "\n",
    "# on décale le centre du référentiel de l'image car on part de moins loin\n",
    "# (l'image est plus petite)\n",
    "# et le centre n'est plus tout à fait le même \n",
    "affine_out[:,3] = affine_out[:,3] + CdG_xyz - halfs_xyz \n",
    "\n",
    "# on écrit l'image de résultats\n",
    "cropped = nip.Nifti1Image(array_out, affine_out)\n",
    "nb.loadsave.save(cropped, \"../share/image/conformed256_cropped.nii.gz\")"
   ]
  }
 ],
 "metadata": {
  "kernelspec": {
   "display_name": "Python 3.10.4 ('SHIVA_ENV')",
   "language": "python",
   "name": "python3"
  },
  "language_info": {
   "codemirror_mode": {
    "name": "ipython",
    "version": 3
   },
   "file_extension": ".py",
   "mimetype": "text/x-python",
   "name": "python",
   "nbconvert_exporter": "python",
   "pygments_lexer": "ipython3",
   "version": "3.10.4"
  },
  "orig_nbformat": 4,
  "vscode": {
   "interpreter": {
    "hash": "f706b46bbda154bb0ced5672444e710153f9fec79c801d0cbc6a8cc994e0557a"
   }
  }
 },
 "nbformat": 4,
 "nbformat_minor": 2
}
